{
  "nbformat": 4,
  "nbformat_minor": 0,
  "metadata": {
    "colab": {
      "provenance": [],
      "authorship_tag": "ABX9TyPqwJicC63kNX1cy8RiFMMa",
      "include_colab_link": true
    },
    "kernelspec": {
      "name": "python3",
      "display_name": "Python 3"
    },
    "language_info": {
      "name": "python"
    }
  },
  "cells": [
    {
      "cell_type": "markdown",
      "metadata": {
        "id": "view-in-github",
        "colab_type": "text"
      },
      "source": [
        "<a href=\"https://colab.research.google.com/github/kazarach/UAS_ML/blob/main/TrainingPipeline.ipynb\" target=\"_parent\"><img src=\"https://colab.research.google.com/assets/colab-badge.svg\" alt=\"Open In Colab\"/></a>"
      ]
    },
    {
      "cell_type": "code",
      "source": [
        "import torch\n",
        "import torch.nn as nn"
      ],
      "metadata": {
        "id": "UJ1eBBhNr1_V"
      },
      "execution_count": 10,
      "outputs": []
    },
    {
      "cell_type": "code",
      "source": [
        "X = torch.tensor([[1], [2], [3], [4]], dtype=torch.float32)\n",
        "Y = torch.tensor([[2], [4], [6], [8]], dtype=torch.float32)\n",
        "\n",
        "n_samples, n_features = X.shape\n",
        "print(f'#samples: {n_samples}, #features: {n_features}')"
      ],
      "metadata": {
        "colab": {
          "base_uri": "https://localhost:8080/"
        },
        "id": "KZLwIwYXr30S",
        "outputId": "9a6bec69-dd94-4faf-aca6-7b2a6cba35db"
      },
      "execution_count": 11,
      "outputs": [
        {
          "output_type": "stream",
          "name": "stdout",
          "text": [
            "#samples: 4, #features: 1\n"
          ]
        }
      ]
    },
    {
      "cell_type": "code",
      "source": [
        "X_test = torch.tensor([5], dtype=torch.float32)\n",
        "\n",
        "input_size = n_features\n",
        "output_size = n_features\n",
        "\n",
        "model = nn.Linear(input_size, output_size)\n",
        "\n",
        "\n",
        "print(f'Prediction before training: f(5) = {model(X_test).item():.3f}')"
      ],
      "metadata": {
        "colab": {
          "base_uri": "https://localhost:8080/"
        },
        "id": "YzEvQ_U8r6lB",
        "outputId": "589bb223-0aa7-40d4-bb43-3d1ecc7990e4"
      },
      "execution_count": 12,
      "outputs": [
        {
          "output_type": "stream",
          "name": "stdout",
          "text": [
            "Prediction before training: f(5) = -0.672\n"
          ]
        }
      ]
    },
    {
      "cell_type": "code",
      "source": [
        "learning_rate = 0.01\n",
        "n_iters = 100\n",
        "\n",
        "loss = nn.MSELoss()\n",
        "optimizer = torch.optim.SGD(model.parameters(), lr=learning_rate)"
      ],
      "metadata": {
        "id": "1k8cuRGwskal"
      },
      "execution_count": 13,
      "outputs": []
    },
    {
      "cell_type": "code",
      "source": [
        "for epoch in range(n_iters):\n",
        "    y_predicted = model(X)\n",
        "\n",
        "    l = loss(Y, y_predicted)\n",
        "\n",
        "    l.backward()\n",
        "\n",
        "    optimizer.step()\n",
        "\n",
        "    optimizer.zero_grad()\n",
        "\n",
        "    if epoch % 10 == 0:\n",
        "        [w, b] = model.parameters() # unpack parameters\n",
        "        print('epoch ', epoch+1, ': w = ', w[0][0].item(), ' loss = ', l)\n",
        "\n",
        "print(f'Prediction after training: f(5) = {model(X_test).item():.3f}')"
      ],
      "metadata": {
        "colab": {
          "base_uri": "https://localhost:8080/"
        },
        "id": "YvoKJJ8_r9gk",
        "outputId": "12538d90-cec6-48a2-f690-3469902b1900"
      },
      "execution_count": 14,
      "outputs": [
        {
          "output_type": "stream",
          "name": "stdout",
          "text": [
            "epoch  1 : w =  -0.010198981501162052  loss =  tensor(30.6021, grad_fn=<MseLossBackward0>)\n",
            "epoch  11 : w =  1.2639042139053345  loss =  tensor(1.1375, grad_fn=<MseLossBackward0>)\n",
            "epoch  21 : w =  1.481034755706787  loss =  tensor(0.3551, grad_fn=<MseLossBackward0>)\n",
            "epoch  31 : w =  1.52779221534729  loss =  tensor(0.3159, grad_fn=<MseLossBackward0>)\n",
            "epoch  41 : w =  1.5467958450317383  loss =  tensor(0.2970, grad_fn=<MseLossBackward0>)\n",
            "epoch  51 : w =  1.5609960556030273  loss =  tensor(0.2797, grad_fn=<MseLossBackward0>)\n",
            "epoch  61 : w =  1.5740946531295776  loss =  tensor(0.2634, grad_fn=<MseLossBackward0>)\n",
            "epoch  71 : w =  1.5866963863372803  loss =  tensor(0.2481, grad_fn=<MseLossBackward0>)\n",
            "epoch  81 : w =  1.5989083051681519  loss =  tensor(0.2337, grad_fn=<MseLossBackward0>)\n",
            "epoch  91 : w =  1.610756516456604  loss =  tensor(0.2201, grad_fn=<MseLossBackward0>)\n",
            "Prediction after training: f(5) = 9.220\n"
          ]
        }
      ]
    }
  ]
}